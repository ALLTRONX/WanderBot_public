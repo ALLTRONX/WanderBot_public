{
 "cells": [
  {
   "cell_type": "markdown",
   "metadata": {
    "collapsed": false
   },
   "source": [
    "![](https://ai-studio-static-online.cdn.bcebos.com/72133691dfbc45ddafc30acc76d5ad931c281b2b637c40bdba4dd5efa4e479d1)\n",
    "# Wander[001] - 未来流浪者——基于WeChaty, PaddleHub与彩云小梦的科幻机器人\n",
    "\n",
    "一个身处未来，正在努力穿越地球的旅行者。 可以跟人类发送当前定位、照片和游记。\n",
    "\n",
    "发送“我想去：”+地点，即可获得当地未来时期的照片，以及Wander的游记。\n",
    "\n",
    "希望做成一个互联网艺术项目，成为参与者聊天列表里一位特殊的旅行者，给参与者带去一些期待和惊喜。\n",
    "\n",
    "![](https://ai-studio-static-online.cdn.bcebos.com/bf58434f513f4e3a8ae36c121bba1423a1f005193a994cb388d113cac27f4df5)\n",
    "\n",
    "![](https://ai-studio-static-online.cdn.bcebos.com/8961050f9b7a46a396d56192f7592c55d1607c3a1ebf4510abf50592842a8984)\n",
    "\n",
    "![](https://ai-studio-static-online.cdn.bcebos.com/0893f4ced8874e2180d16d3802fff0149ce1b3ab8896480da5f9520d6e24d47b)\n",
    "\n",
    "![](https://ai-studio-static-online.cdn.bcebos.com/57e73493b3074255b4c25112d7be8fec8c35a6cd948c4a7c8e4a45f899f89d80)"
   ]
  },
  {
   "cell_type": "markdown",
   "metadata": {
    "collapsed": false
   },
   "source": [
    " ## 实现流程\n",
    "获取地理信息，如 [北京大学东门] \n",
    "\n",
    "=》调用百度地图api地图检索功能，根据地点搜索获取gps坐标 \n",
    "\n",
    "[http://lbsyun.baidu.com/index.php?title=webapi/guide/webservice-placeapi](http://lbsyun.baidu.com/index.php?title=webapi/guide/webservice-placeapi)\n",
    "    \n",
    "=》调用百度地图api全景静态图功能，获取该坐标对应的街景图 \n",
    "\n",
    "[http://lbsyun.baidu.com/index.php?title=viewstatic](http://lbsyun.baidu.com/index.php?title=viewstatic)\n",
    "        \n",
    "=》调用PaddleHub风格迁移模型，迁移成未来风格 \n",
    "\n",
    "[https://aistudio.baidu.com/aistudio/projectdetail/439779?channelType=0&channel=0](https://aistudio.baidu.com/aistudio/projectdetail/439779?channelType=0&channel=0)\n",
    "        \n",
    "=》调用彩云小梦api，生成游记\n",
    "\n",
    "[https://open.caiyunapp.com/%E5%BD%A9%E4%BA%91%E5%B0%8F%E6%A2%A6API](https://open.caiyunapp.com/%E5%BD%A9%E4%BA%91%E5%B0%8F%E6%A2%A6API)\n",
    "\n",
    "=》通过WeChaty返回消息给用户\n",
    "\n",
    "[https://wechaty.js.org/](https://wechaty.js.org/)\n",
    "\n",
    "            \n",
    "        "
   ]
  },
  {
   "cell_type": "markdown",
   "metadata": {
    "collapsed": false
   },
   "source": [
    " ## 准备工作\n",
    "服务器搭建，以及WeChaty Token获取的部分请参考：\n",
    "\n",
    "[https://aistudio.baidu.com/aistudio/projectdetail/1836012](https://aistudio.baidu.com/aistudio/projectdetail/1836012)\n",
    "\n",
    "百度地图的api Token(ak)可通过在官网控制台创建应用获得\n",
    "\n",
    "[http://lbsyun.baidu.com/index.php?title=%E9%A6%96%E9%A1%B5](http://lbsyun.baidu.com/index.php?title=%E9%A6%96%E9%A1%B5)\n",
    "\n",
    "彩云小梦的api Token需要通过邮件申请\n",
    "\n",
    "[https://open.caiyunapp.com/%E5%BD%A9%E4%BA%91%E5%B0%8F%E6%A2%A6API](https://open.caiyunapp.com/%E5%BD%A9%E4%BA%91%E5%B0%8F%E6%A2%A6API)\n",
    "\n"
   ]
  },
  {
   "cell_type": "markdown",
   "metadata": {
    "collapsed": false
   },
   "source": [
    " ![](https://ai-studio-static-online.cdn.bcebos.com/afb78d903d74484eb3ad95653d792f652ba75e0ad22c4111b9630994821b03ae)\n",
    " \n",
    " \n",
    " ## 代码实现"
   ]
  },
  {
   "cell_type": "code",
   "execution_count": null,
   "metadata": {
    "collapsed": false
   },
   "outputs": [],
   "source": [
    "#导入相关库\n",
    "import os\n",
    "import asyncio\n",
    "import requests,json,time\n",
    "os.environ['WECHATY_PUPPET_SERVICE_TOKEN'] = '你的wechaty token'\n",
    "os.environ['WECHATY_PUPPET_HOSTIE_TOKEN'] = '你的wechaty token'\n",
    "os.environ['CUDA_VISIBLE_DEVICES'] = '0'\n",
    "text='wait'"
   ]
  },
  {
   "cell_type": "code",
   "execution_count": 0,
   "metadata": {
    "collapsed": false
   },
   "outputs": [],
   "source": [
    "import urllib.request  #打开网页模块\n",
    "import urllib.parse    #转码模块\n",
    "from bs4 import BeautifulSoup\n",
    "from urllib.parse import quote\n",
    "from PIL import Image\n",
    "import json\n"
   ]
  },
  {
   "cell_type": "code",
   "execution_count": null,
   "metadata": {
    "collapsed": false
   },
   "outputs": [],
   "source": [
    "import paddlehub as hub\n",
    "import cv2\n",
    "import matplotlib.image as mpimg\n",
    "\n",
    "stylepro_artistic = hub.Module(name=\"stylepro_artistic\")\n",
    "_lng=''\n",
    "_lat=''"
   ]
  },
  {
   "cell_type": "code",
   "execution_count": null,
   "metadata": {
    "collapsed": false
   },
   "outputs": [],
   "source": [
    "from wechaty import (\n",
    "    Contact,\n",
    "    FileBox,\n",
    "    Message,\n",
    "    Wechaty,\n",
    "    ScanStatus,\n",
    ")"
   ]
  },
  {
   "cell_type": "code",
   "execution_count": null,
   "metadata": {
    "collapsed": false
   },
   "outputs": [],
   "source": [
    "#在接收到消息时执行\r\n",
    "async def on_message(msg: Message):\r\n",
    "\r\n",
    "    talker = msg.talker()\r\n",
    "\r\n",
    "    if \"我想去：\" in msg.text():\r\n",
    "        location=msg.text().replace('我想去：', '')\r\n",
    "        await talker.say('正在前往：'+location)\r\n",
    "        print('准备定位')\r\n",
    "        print(location)\r\n",
    "        path=findLocation(location)\r\n",
    "        print('已完成生成')\r\n",
    "        print(path)\r\n",
    "\r\n",
    "        if path is None:\r\n",
    "            await talker.say('获取失败，请重试')\r\n",
    "        else:\r\n",
    "            file_box_4 = FileBox.from_file(path)\r\n",
    "            await talker.say('降落成功。'  + '\\n'+ '经度：'+_lng+ '\\n'+'纬度：'+_lat)\r\n",
    "            await talker.say(file_box_4)\r\n",
    "            #续写\r\n",
    "            title=\"科幻小说：星舰地球-未来宇宙日志01\"\r\n",
    "            content='这里是3050年的'+location+'。我的飞行器缓缓降落。'\r\n",
    "            mid='60211134902769d45689bf75'\r\n",
    "            res_from_caiyunai=create_from_caiyunai(title,content,mid)\r\n",
    "            if res_from_caiyunai:\r\n",
    "                result=res_from_caiyunai[0]\r\n",
    "                data=json.dumps(result)\r\n",
    "                final = json.loads(data)['content']\r\n",
    "                await msg.say(content+str(final))\r\n",
    "\r\n",
    "#测试功能\r\n",
    "    if msg.text() == 'ding':\r\n",
    "        await msg.say('这是自动回复: dong dong dong')\r\n",
    "#测试功能\r\n",
    "    if msg.text() == 'hi' or msg.text() == '你好':\r\n",
    "        await msg.say( '你好，我是在未来的地球上流浪的机器人。')\r\n",
    "\r\n",
    "#测试功能。发动续写\r\n",
    "    if \"续写：\" in msg.text():\r\n",
    "        #调用彩云\r\n",
    "        title=\"科幻小说：未来宇宙流浪日志01\"\r\n",
    "        content=msg.text().replace('续写：', '')\r\n",
    "        mid='60211134902769d45689bf75'\r\n",
    "        res_from_caiyunai=create_from_caiyunai(title,content,mid)\r\n",
    "        if res_from_caiyunai:\r\n",
    "            result=res_from_caiyunai[0]\r\n",
    "            data=json.dumps(result)\r\n",
    "            final = json.loads(data)['content']\r\n",
    "            await msg.say(content+str(final))\r\n",
    "        # 构建一个FileBox\r\n",
    "        file_box_1 = FileBox.from_url(url=url, name='xx.jpg')\r\n",
    "\r\n",
    "        await msg.say(file_box_1)\r\n"
   ]
  },
  {
   "cell_type": "code",
   "execution_count": null,
   "metadata": {
    "collapsed": false
   },
   "outputs": [],
   "source": [
    "async def on_scan(\r\n",
    "        qrcode: str,\r\n",
    "        status: ScanStatus,\r\n",
    "        _data,\r\n",
    "):\r\n",
    "    print('Status: ' + str(status))\r\n",
    "    print('View QR Code Online: https://wechaty.js.org/qrcode/' + qrcode)\r\n",
    "\r\n",
    "\r\n",
    "async def on_login(user: Contact):\r\n",
    "    print(user)\r\n",
    "\r\n",
    "\r\n",
    "async def main():\r\n",
    "    # 确保我们在环境变量中设置了WECHATY_PUPPET_SERVICE_TOKEN\r\n",
    "    if 'WECHATY_PUPPET_SERVICE_TOKEN' not in os.environ:\r\n",
    "        print('''\r\n",
    "            Error: WECHATY_PUPPET_SERVICE_TOKEN is not found in the environment variables\r\n",
    "            You need a TOKEN to run the Python Wechaty. Please goto our README for details\r\n",
    "            https://github.com/wechaty/python-wechaty-getting-started/#wechaty_puppet_service_token\r\n",
    "        ''')\r\n",
    "\r\n",
    "    bot = Wechaty()\r\n",
    "\r\n",
    "    bot.on('scan',      on_scan)\r\n",
    "    bot.on('login',     on_login)\r\n",
    "    bot.on('message',   on_message)\r\n",
    "\r\n",
    "    await bot.start()\r\n",
    "\r\n",
    "    print('[Python Wechaty] Ding Dong Bot started.')\r\n"
   ]
  },
  {
   "cell_type": "code",
   "execution_count": null,
   "metadata": {
    "collapsed": false
   },
   "outputs": [],
   "source": [
    "# 输入地名，最终返回生成图片的地址\r\n",
    "def findLocation(address):\r\n",
    "\r\n",
    "\tak = \"你的百度地图ak\"\r\n",
    "\turl=\"http://api.map.baidu.com/geocoding/v3/?address=\"+quote(address)+\"&output=json&ak=\"+ak\r\n",
    "\tprint(url)\r\n",
    "\tglobal _lng\r\n",
    "\tglobal _lat\r\n",
    "\r\n",
    "\trequest = urllib.request.Request(url)\r\n",
    "\twith urllib.request.urlopen(request) as f:\r\n",
    "\t\thtml = f.read()#.decode('utf-8')\r\n",
    "\r\n",
    "\tsoup = BeautifulSoup(html, 'html.parser')\r\n",
    "\tdata = json.loads(str(soup))\r\n",
    "\r\n",
    "\tif \"无相关结果\" in str(data):\r\n",
    "\t\treturn str(data)\r\n",
    "\telse:\r\n",
    "\t\tlng   = data[\"result\"][\"location\"][\"lng\"]\r\n",
    "\t\tlat   = data[\"result\"][\"location\"][\"lat\"]\r\n",
    "\t\tlevel = data[\"result\"][\"level\"]\r\n",
    "\t\t#如果获取坐标，保存图片并加水印\r\n",
    "        #返回图片地址\r\n",
    "\t\tfinal=getPicture(str(lng),str(lat))\r\n",
    "\t\t_lng=str(lng)\r\n",
    "\t\t_lat=str(lat)\r\n",
    "\t\tprint('经度'+_lng+'纬度'+_lat)\r\n",
    "\t\treturn final"
   ]
  },
  {
   "cell_type": "code",
   "execution_count": null,
   "metadata": {
    "collapsed": false
   },
   "outputs": [],
   "source": [
    "#根据坐标，调取街景图\r\n",
    "def getPicture(longitude,latitude):\r\n",
    "\turl = \"https://api.map.baidu.com/panorama/v2?&width=1024&height=512&location=\"+longitude+\",\"+latitude+\"&ak=pn6hX9AEgMoSX2IXOH4iNjkN2MKoOuHV&fov=180\"\r\n",
    "\tprint(url)\r\n",
    "\r\n",
    "\trequest = urllib.request.Request(url)\r\n",
    "\twith urllib.request.urlopen(request) as f:\r\n",
    "\t\thtml = f.read().decode(\"ISO-8859-1\")\r\n",
    "\r\n",
    "\tsoup = BeautifulSoup(html, 'html.parser')\r\n",
    "\r\n",
    "\tif \"message\" in str(soup):\r\n",
    "\t\tprint(\"返回错误信息：如下：\",soup)\r\n",
    "\telse:\r\n",
    "\t\tsave_name = \"./pictures/\" + longitude + \"_\" + latitude + \".jpg\"\r\n",
    "\r\n",
    "\t\trep = urllib.request.urlopen(url)\r\n",
    "\t\t# 将图片存入本地，创建一个save_name的文件，wb为写入\r\n",
    "\t\tf = open(save_name, 'wb')\r\n",
    "\t\t# 写入图片\r\n",
    "\t\tf.write(rep.read())\r\n",
    "\t\tf.close()\r\n",
    "\t\tprint(\"成功获取图片！\")\r\n",
    "\r\n",
    "\t\t#获取的图片地址\r\n",
    "\t\tsave_path = \"./pictures/\" + longitude + \"_\" + latitude + \".jpg\"\r\n",
    "\t\t#迁移后的名字\r\n",
    "\t\tsave_new_name = longitude + \"_\" + latitude + \"new.jpg\"\r\n",
    "\t\t#贴完水印的地址\r\n",
    "\t\tsave_final_name =\"./transfer_result/\"+ longitude + \"_\" + latitude + \"final.jpg\"\r\n",
    "        #风格迁移\r\n",
    "\t\tmotherPath=img_transform(save_path,save_new_name)\r\n",
    "\t\tprint(\"成功迁移风格\")\r\n",
    "\r\n",
    "\t\t#加水印\r\n",
    "\t\tPicture_Synthesis(mother_img=motherPath,\r\n",
    "\t\t\t\t\t\t  son_img=\"realLogo.png\",\r\n",
    "\t\t\t\t\t\t  save_img=save_final_name,\r\n",
    "\t\t\t\t\t\t  coordinate=None  # 如果为None表示直接将子图在母图中居中也可以直接赋值坐标\r\n",
    "\t\t\t\t\t\t  )\r\n",
    "\t\tprint(\"成功添加自定义水印！\")\r\n",
    "        #返回图片地址\r\n",
    "\t\treturn save_final_name"
   ]
  },
  {
   "cell_type": "code",
   "execution_count": null,
   "metadata": {
    "collapsed": false
   },
   "outputs": [],
   "source": [
    "#风格迁移\r\n",
    "def img_transform(img_path, img_name):\r\n",
    "\r\n",
    "    #img_path: 图片的路径\r\n",
    "    #img_name: 图片的文件名\r\n",
    "    # 图片转换后存放的路径\r\n",
    "    img_new_path = './transfer_result/' + img_name\r\n",
    "\r\n",
    "    # 模型预测\r\n",
    "    result = stylepro_artistic.style_transfer(images=[{\r\n",
    "        'content': cv2.imread(img_path),\r\n",
    "        'styles': [cv2.imread(\"styles/style7.jpg\")]}],\r\n",
    "        alpha = 1.0,\r\n",
    "        visualization = True)\r\n",
    "\r\n",
    "    # 将图片保存到指定路径\r\n",
    "    cv2.imwrite(img_new_path, result[0]['data'])\r\n",
    "\r\n",
    "    # 返回新图片的路径\r\n",
    "    return img_new_path\r\n"
   ]
  },
  {
   "cell_type": "code",
   "execution_count": null,
   "metadata": {
    "collapsed": false
   },
   "outputs": [],
   "source": [
    "#给图片打水印\r\n",
    "def Picture_Synthesis(mother_img,\r\n",
    "                      son_img,\r\n",
    "                      save_img,\r\n",
    "                      coordinate=None):\r\n",
    "    \"\"\"\r\n",
    "    :param mother_img: 母图\r\n",
    "    :param son_img: 子图\r\n",
    "    :param save_img: 保存图片名\r\n",
    "    :param coordinate: 子图在母图的坐标\r\n",
    "    :return:\r\n",
    "    \"\"\"\r\n",
    "    #将图片赋值,方便后面的代码调用\r\n",
    "    M_Img = Image.open(mother_img)\r\n",
    "    S_Img = Image.open(son_img)\r\n",
    "\r\n",
    "    # 获取图片的尺寸\r\n",
    "    M_Img_w, M_Img_h = M_Img.size  # 获取被放图片的大小（母图）\r\n",
    "    S_Img_w, S_Img_h = S_Img.size  # 获取小图的大小（子图）\r\n",
    "\r\n",
    "    # # 重新设置子图的尺寸\r\n",
    "    #icon = S_Img.resize((321, 60), Image.ANTIALIAS)\r\n",
    "    icon = S_Img\r\n",
    "    w = 23\r\n",
    "    h = int((M_Img_h) - 23-60)\r\n",
    "\r\n",
    "    try:\r\n",
    "        if coordinate==None or coordinate==\"\":\r\n",
    "            coordinate=(w, h)\r\n",
    "            # 粘贴子图到母图的指定坐标（当前居中）\r\n",
    "            M_Img.paste(icon, coordinate, mask=None)\r\n",
    "        else:\r\n",
    "            print(\"已经指定坐标\")\r\n",
    "            # 粘贴子图到母图的指定坐标（当前居中）\r\n",
    "            M_Img.paste(icon, coordinate, mask=None)\r\n",
    "    except:\r\n",
    "        print(\"坐标指定出错 \")\r\n",
    "    # 保存图片\r\n",
    "    M_Img.save(save_img)\r\n"
   ]
  },
  {
   "cell_type": "code",
   "execution_count": null,
   "metadata": {
    "collapsed": false
   },
   "outputs": [],
   "source": [
    "#彩云续写\r\n",
    "    #选择模型\r\n",
    "    #小梦0号：60094a2a9661080dc490f75a\r\n",
    "    #小梦1号：601ac4c9bd931db756e22da6\r\n",
    "    #纯爱：601f92f60c9aaf5f28a6f908\r\n",
    "    #言情：601f936f0c9aaf5f28a6f90a\r\n",
    "    #玄幻：60211134902769d45689bf75\r\n",
    "\r\n",
    "def create_from_caiyunai(title, content,mid=\"60094a2a9661080dc490f75a\"):\r\n",
    "    global nid\r\n",
    "    url = \"http://if.caiyunai.com/v1/dream/\"\r\n",
    "    token = \"你的彩云小梦token\"\r\n",
    "\r\n",
    "    #创建文章\r\n",
    "    payload = {\r\n",
    "                \"content\" : content,\r\n",
    "                \"title\" : title,\r\n",
    "               }\r\n",
    "    response = requests.request(\"POST\", url + token + \"/novel_save\", data=json.dumps(payload))\r\n",
    "    nid = json.loads(response.text)['data']['nid']\r\n",
    "\r\n",
    "    #发起续写\r\n",
    "    payload = {\r\n",
    "            \"content\" : content,\r\n",
    "            \"title\" : title,\r\n",
    "            \"mid\": mid,\r\n",
    "            \"nid\": nid\r\n",
    "            }\r\n",
    "    response = requests.request(\"POST\", url + token + \"/novel_ai\", data=json.dumps(payload))\r\n",
    "\r\n",
    "    try:\r\n",
    "        xid=json.loads(response.text)['data']['xid']\r\n",
    "    except:\r\n",
    "        print('续写失败:',response.text)\r\n",
    "        return;\r\n",
    "\r\n",
    "    #等待结果\r\n",
    "    while True:\r\n",
    "      time.sleep(1)\r\n",
    "      #获取结果\r\n",
    "      payload = {\r\n",
    "              \"xid\": xid,\r\n",
    "              \"nid\": nid\r\n",
    "              }\r\n",
    "      response = requests.request(\"POST\", url + token + \"/novel_dream_loop\", data=json.dumps(payload))\r\n",
    "      if json.loads(response.text)['data']['count']==0:\r\n",
    "        res = json.loads(response.text)['data']['rows']\r\n",
    "        break\r\n",
    "\r\n",
    "    return res"
   ]
  },
  {
   "cell_type": "code",
   "execution_count": null,
   "metadata": {
    "collapsed": false
   },
   "outputs": [],
   "source": [
    "asyncio.run(main())"
   ]
  },
  {
   "cell_type": "markdown",
   "metadata": {
    "collapsed": false
   },
   "source": [
    "## 参考链接\n",
    "[教你用AI Studio+wechaty+阿里云白嫖一个智能微信机器人](https://aistudio.baidu.com/aistudio/projectdetail/1836012)\n",
    "\n",
    "[玩转PaddleHub——毕加索画风的蒙娜丽莎](https://aistudio.baidu.com/aistudio/projectdetail/439779?channelType=0&channel=0)\n",
    "\n",
    "[PaddleHub+WeChaty实现一个十分装逼的智能微信机器人](https://aistudio.baidu.com/aistudio/projectdetail/1890832)"
   ]
  },
  {
   "cell_type": "markdown",
   "metadata": {
    "collapsed": false
   },
   "source": [
    "请点击[此处](https://ai.baidu.com/docs#/AIStudio_Project_Notebook/a38e5576)查看本环境基本用法.  <br>\n",
    "Please click [here ](https://ai.baidu.com/docs#/AIStudio_Project_Notebook/a38e5576) for more detailed instructions. "
   ]
  }
 ],
 "metadata": {
  "kernelspec": {
   "display_name": "PaddlePaddle 2.0.0b0 (Python 3.5)",
   "language": "python",
   "name": "py35-paddle1.2.0"
  },
  "language_info": {
   "codemirror_mode": {
    "name": "ipython",
    "version": 3
   },
   "file_extension": ".py",
   "mimetype": "text/x-python",
   "name": "python",
   "nbconvert_exporter": "python",
   "pygments_lexer": "ipython3",
   "version": "3.7.4"
  }
 },
 "nbformat": 4,
 "nbformat_minor": 1
}
